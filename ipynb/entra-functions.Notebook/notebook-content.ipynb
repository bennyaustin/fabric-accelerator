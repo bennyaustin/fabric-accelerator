{
    "cells": [
        {
            "cell_type": "markdown",
            "source": [
                "# Re-usable functions for Azure Active Directory"
            ],
            "metadata": {
                "nteract": {
                    "transient": {
                        "deleting": false
                    }
                }
            },
            "id": "51911f7d-0be8-4c4e-9e87-a5822f0725fe"
        },
        {
            "cell_type": "code",
            "source": [
                "%run /common/keyvault-functions {\"kvLinkedService\": \"keyvault01\"}"
            ],
            "outputs": [],
            "execution_count": 5,
            "metadata": {
                "jupyter": {
                    "source_hidden": false,
                    "outputs_hidden": false
                },
                "nteract": {
                    "transient": {
                        "deleting": false
                    }
                },
                "microsoft": {
                    "language": "python",
                    "language_group": "synapse_pyspark"
                }
            },
            "id": "b1c3555e-c4b3-4ece-8dc7-faccbe492c72"
        },
        {
            "cell_type": "code",
            "source": [
                "tenandIdSecret = \"<Azure Key Vault Secret for TenantID>\"\n",
                "servicePrincipalIdSecret = \"<Azure Key Vault Secret for Service Principal ID>\"\n",
                "servicePrincipalSecret = \"<Azure Key Vault Secret for Service Principal secret>\"\n",
                "authUrl = \"https://login.windows.net\"\n",
                "resourceUrl = \"https://database.windows.net/\""
            ],
            "outputs": [],
            "execution_count": 6,
            "metadata": {
                "jupyter": {
                    "source_hidden": false,
                    "outputs_hidden": false
                },
                "nteract": {
                    "transient": {
                        "deleting": false
                    }
                },
                "tags": [
                    "parameters"
                ],
                "microsoft": {
                    "language": "python",
                    "language_group": "synapse_pyspark"
                }
            },
            "id": "70d88ea1-5758-4d9f-b909-c689598f53c8"
        },
        {
            "cell_type": "code",
            "source": [
                "import adal\n",
                "\n"
            ],
            "outputs": [],
            "execution_count": 7,
            "metadata": {
                "jupyter": {
                    "source_hidden": false,
                    "outputs_hidden": false
                },
                "nteract": {
                    "transient": {
                        "deleting": false
                    }
                },
                "microsoft": {
                    "language": "python",
                    "language_group": "synapse_pyspark"
                }
            },
            "id": "506bf3a2-41c1-4728-9042-8aa0c3fe73af"
        },
        {
            "cell_type": "markdown",
            "source": [
                "# getBearerToken()"
            ],
            "metadata": {
                "nteract": {
                    "transient": {
                        "deleting": false
                    }
                }
            },
            "id": "ced16d6b-5a09-4a43-bd38-f1a913a1ed03"
        },
        {
            "cell_type": "code",
            "source": [
                "def getBearerToken():\n",
                "    ############################################################################\n",
                "    # getBearerToken\n",
                "    # Returns a bearer token for a service principal AAD authentication\n",
                "    #\n",
                "    # Parameters:\n",
                "    #       None\n",
                "    #\n",
                "    # Returns:\n",
                "    #     Bearer Token  \n",
                "    ############################################################################\n",
                "\n",
                "    tenantId = getSecret(tenandIdSecret)\n",
                "    servicePrincipalId = getSecret(servicePrincipalIdSecret)\n",
                "    secret = getSecret(servicePrincipalSecret)\n",
                "\n",
                "    assert tenantId is not None, \"tenantId not specified\"\n",
                "    assert servicePrincipalId is not None, \"servicePrincipalId not specified\"\n",
                "    assert secret is not None, \"secret not specified\"\n",
                "    assert authUrl is not None, \"authUrl not specified\"\n",
                "    assert resourceUrl is not None, \"resourceUrl not specified\"\n",
                "\n",
                "    authority = authUrl + \"/\" + tenantId\n",
                "    try:\n",
                "        context = adal.AuthenticationContext(authority)\n",
                "        token = context.acquire_token_with_client_credentials(resourceUrl, servicePrincipalId, secret)\n",
                "        accessToken = token[\"accessToken\"]\n",
                "    except Exception as e:\n",
                "        print(\"getBearerToken failed with exception:\")\n",
                "        raise e\n",
                "    return accessToken"
            ],
            "outputs": [],
            "execution_count": 9,
            "metadata": {
                "jupyter": {
                    "source_hidden": false,
                    "outputs_hidden": false
                },
                "nteract": {
                    "transient": {
                        "deleting": false
                    }
                },
                "microsoft": {
                    "language": "python",
                    "language_group": "synapse_pyspark"
                }
            },
            "id": "ba4860fe-8ace-4471-921a-f3b0fb795495"
        },
        {
            "cell_type": "code",
            "source": [],
            "outputs": [],
            "execution_count": null,
            "metadata": {
                "jupyter": {
                    "source_hidden": false,
                    "outputs_hidden": false
                },
                "nteract": {
                    "transient": {
                        "deleting": false
                    }
                },
                "microsoft": {
                    "language": "python",
                    "language_group": "synapse_pyspark"
                }
            },
            "id": "713e0b5e-b9cb-49cf-a5d1-62c4aaebb636"
        }
    ],
    "metadata": {
        "kernelspec": {
            "name": "synapse_pyspark",
            "display_name": "Synapse PySpark"
        },
        "language_info": {
            "name": "python"
        },
        "microsoft": {
            "language": "python",
            "ms_spell_check": {
                "ms_spell_check_language": "en"
            },
            "language_group": "synapse_pyspark"
        },
        "widgets": {},
        "nteract": {
            "version": "nteract-front-end@1.0.0"
        },
        "notebook_environment": {},
        "kernel_info": {
            "name": "synapse_pyspark"
        },
        "description": "Reusable functions for Azure Active Directory",
        "synapse_widget": {
            "version": "0.1",
            "state": {}
        },
        "save_output": true,
        "spark_compute": {
            "compute_id": "/trident/default",
            "session_options": {
                "enableDebugMode": false,
                "conf": {
                    "spark.synapse.nbs.session.timeout": "1200000"
                }
            }
        },
        "dependencies": {
            "lakehouse": {}
        }
    },
    "nbformat": 4,
    "nbformat_minor": 5
}