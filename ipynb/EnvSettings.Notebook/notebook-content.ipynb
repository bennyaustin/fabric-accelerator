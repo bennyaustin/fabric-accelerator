{
    "cells": [
        {
            "cell_type": "markdown",
            "source": [
                "# Environment Variables\n",
                "Use this notebook to set environment specific variables that can be referenced in other spark notebooks. These variables need to set once in each environment"
            ],
            "metadata": {
                "nteract": {
                    "transient": {
                        "deleting": false
                    }
                },
                "microsoft": {
                    "language": "python",
                    "language_group": "synapse_pyspark"
                }
            },
            "id": "3dd5b08d-8fd6-4bf3-b059-5b789af3fdd7"
        },
        {
            "cell_type": "code",
            "source": [
                "# Fabric Workspace ID for the Bronze medallion layer\n",
                "bronzeWorkspaceId = \"8d8d00a7-0e8a-4e3b-8c0e-8dcafac7adec\"\n",
                "\n",
                "# Bronze Lakehouse name. Set to None if not applicable.\n",
                "bronzeLakehouseName = \"lh_bronze\"\n",
                "\n",
                "# Bronze data warehouse name. Set to None if not applicable.\n",
                "bronzeDatawarehouseName = None\n",
                "\n",
                "# Fabric Workspace ID for the Silver medallion layer. Use the same ID if all medallion layers are in the same workspace.\n",
                "silverWorkspaceId = \"8d8d00a7-0e8a-4e3b-8c0e-8dcafac7adec\"\n",
                "\n",
                "# Silver Lakehouse name. Set to None if not applicable.\n",
                "silverLakehouseName = \"lh_silver\"\n",
                "\n",
                "# Silver data warehouse name. Set to None if not applicable.\n",
                "silverDatawarehouseName = None\n",
                "\n",
                "# Fabric Workspace ID for the Gold medallion layer. Use the same ID if all medallion layers are in the same workspace.\n",
                "goldWorkspaceId = \"8d8d00a7-0e8a-4e3b-8c0e-8dcafac7adec\"\n",
                "\n",
                "# Gold Lakehouse name. Set to None if not applicable.\n",
                "goldLakehouseName = None\n",
                "\n",
                "# Gold data warehouse name. Set to None if not applicable.\n",
                "goldDatawarehouseName = \"dw_gold\""
            ],
            "outputs": [],
            "execution_count": 2,
            "metadata": {
                "microsoft": {
                    "language": "python",
                    "language_group": "synapse_pyspark"
                },
                "cellStatus": "{\"Benny Austin\":{\"session_start_time\":null,\"execution_start_time\":\"2025-02-05T02:52:56.5935603Z\",\"execution_finish_time\":\"2025-02-05T02:52:56.9258783Z\",\"state\":\"finished\",\"livy_statement_state\":\"available\",\"normalized_state\":\"finished\"}}"
            },
            "id": "d15c4438-21ba-4f4f-b04b-129ebf8c72c5"
        }
    ],
    "metadata": {
        "kernel_info": {
            "name": "synapse_pyspark"
        },
        "kernelspec": {
            "name": "synapse_pyspark",
            "language": "Python",
            "display_name": "Synapse PySpark"
        },
        "language_info": {
            "name": "python"
        },
        "microsoft": {
            "language": "python",
            "language_group": "synapse_pyspark",
            "ms_spell_check": {
                "ms_spell_check_language": "en"
            }
        },
        "widgets": {},
        "nteract": {
            "version": "nteract-front-end@1.0.0"
        },
        "spark_compute": {
            "compute_id": "/trident/default",
            "session_options": {
                "conf": {
                    "spark.synapse.nbs.session.timeout": "1200000"
                }
            }
        },
        "dependencies": {}
    },
    "nbformat": 4,
    "nbformat_minor": 5
}