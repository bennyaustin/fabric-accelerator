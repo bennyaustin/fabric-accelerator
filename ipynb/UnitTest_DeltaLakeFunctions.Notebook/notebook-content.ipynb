{
    "cells": [
        {
            "cell_type": "markdown",
            "source": [
                "# Notebook for Unit Testing DeltaLakeFunctions"
            ],
            "metadata": {},
            "id": "76e1b4ab-9757-4be4-b381-479c8ceb0f98"
        },
        {
            "cell_type": "code",
            "source": [
                "%run /DeltaLakeFunctions "
            ],
            "outputs": [],
            "execution_count": 1,
            "metadata": {
                "microsoft": {
                    "language": "python",
                    "language_group": "synapse_pyspark"
                },
                "cellStatus": "{\"Benny Austin\":{\"session_start_time\":\"2025-04-15T04:48:05.7770452Z\",\"execution_start_time\":\"2025-04-15T04:48:21.4622808Z\",\"execution_finish_time\":\"2025-04-15T04:48:24.9901322Z\",\"state\":\"finished\",\"livy_statement_state\":\"available\",\"normalized_state\":\"finished\"}}"
            },
            "id": "f290b87d-b6bf-4aba-b0dc-8aafe2c57768"
        },
        {
            "cell_type": "code",
            "source": [
                "df = readFile(\"bronze\",\"Files\",\"raw-bronze/wwi/Sales/Orders/2013-01\",\"Sales_Orders_2013-01-01_000000.parquet\")\n",
                "display(df)"
            ],
            "outputs": [],
            "execution_count": null,
            "metadata": {
                "microsoft": {
                    "language": "python",
                    "language_group": "synapse_pyspark"
                }
            },
            "id": "93f82dab-f2d5-4059-a05a-a787733c28a6"
        },
        {
            "cell_type": "code",
            "source": [
                "upsertDelta(df,\"sales_orders\",\"OrderID|CustomerID\",\"LastEditedWhen\")"
            ],
            "outputs": [],
            "execution_count": null,
            "metadata": {
                "microsoft": {
                    "language": "python",
                    "language_group": "synapse_pyspark"
                }
            },
            "id": "76a479ee-a3e0-4f8f-a08e-f97332b5dd06"
        },
        {
            "cell_type": "code",
            "source": [
                "insertDelta (df, \"sales_orders\", \"append\")"
            ],
            "outputs": [],
            "execution_count": null,
            "metadata": {
                "microsoft": {
                    "language": "python",
                    "language_group": "synapse_pyspark"
                }
            },
            "id": "d001d179-088e-498a-a21e-ea949bb859ac"
        },
        {
            "cell_type": "code",
            "source": [
                "optimizeDelta(\"silver_sales_customertransactions\")"
            ],
            "outputs": [],
            "execution_count": null,
            "metadata": {
                "microsoft": {
                    "language": "python",
                    "language_group": "synapse_pyspark"
                }
            },
            "id": "37f0babf-f53b-4560-b414-d87bf18297ee"
        },
        {
            "cell_type": "code",
            "source": [
                "df = readMedallionLHTable(\"silver\",\"Tables/dbo/silver_warehouse_colors\")\n",
                "display(df)"
            ],
            "outputs": [],
            "execution_count": null,
            "metadata": {
                "microsoft": {
                    "language": "python",
                    "language_group": "synapse_pyspark"
                }
            },
            "id": "d93813d1-506f-4557-84ee-3c55ab838340"
        },
        {
            "cell_type": "code",
            "source": [
                "df = readMedallionLHTable(\"silver\",\"Tables/dbo/silver_warehouse_colors\",\"ColorName == 'Salmon'\")\n",
                "display(df)"
            ],
            "outputs": [],
            "execution_count": null,
            "metadata": {
                "microsoft": {
                    "language": "python",
                    "language_group": "synapse_pyspark"
                }
            },
            "id": "1ee505f8-a894-4ed1-829f-55320bfdce78"
        },
        {
            "cell_type": "code",
            "source": [
                "df = readMedallionLHTable(\"silver\",\"Tables/dbo/silver_warehouse_colors\",\"ColorName == 'Salmon'\",[\"ColorID\",\"ColorName\"])\n",
                "display(df)"
            ],
            "outputs": [],
            "execution_count": null,
            "metadata": {
                "microsoft": {
                    "language": "python",
                    "language_group": "synapse_pyspark"
                }
            },
            "id": "22d04ff2-9b08-4444-b91e-5249d4a3a727"
        },
        {
            "cell_type": "code",
            "source": [
                "df = readMedallionLHTable(\"silver\",\"Tables/dbo/silver_warehouse_colors\",None,[\"ColorID\",\"ColorName\"])\n",
                "display(df)"
            ],
            "outputs": [],
            "execution_count": null,
            "metadata": {
                "microsoft": {
                    "language": "python",
                    "language_group": "synapse_pyspark"
                }
            },
            "id": "a9a5479a-f71d-47f2-a4cc-5ad923ddb600"
        },
        {
            "cell_type": "code",
            "source": [
                "df = readMedallionLHTable(\"silver\",\"Tables/dbo/silver_warehouse_colors\",\"ColorName == 'Salmon'\",None)\n",
                "display(df)"
            ],
            "outputs": [],
            "execution_count": null,
            "metadata": {
                "microsoft": {
                    "language": "python",
                    "language_group": "synapse_pyspark"
                }
            },
            "id": "0bd6b521-ecbb-4ca2-a22d-5df64e387088"
        },
        {
            "cell_type": "code",
            "source": [
                "df = readLHTable(\"lh_fabricEvents\",\"Tables/jobs/pipelineJobs\",\"582b9e24-0962-4fd0-aee5-647d9c200685\", filterCond=None, colList=None)\n",
                "display(df)"
            ],
            "outputs": [],
            "execution_count": null,
            "metadata": {
                "microsoft": {
                    "language": "python",
                    "language_group": "synapse_pyspark"
                }
            },
            "id": "cd636db6-08b5-47f2-92cf-1fe214eb7267"
        },
        {
            "cell_type": "code",
            "source": [
                "df = readLHTable(\"lh_fabricEvents\",\"Tables/jobs/pipelineJobs\",\"582b9e24-0962-4fd0-aee5-647d9c200685\", \"EventProcessedUtcTime >'2025-02-07 20:42:19.269818'\", colList=None)\n",
                "display(df)"
            ],
            "outputs": [],
            "execution_count": null,
            "metadata": {
                "microsoft": {
                    "language": "python",
                    "language_group": "synapse_pyspark"
                }
            },
            "id": "9a5815ee-3d0c-474c-953c-d5e575d9c21a"
        },
        {
            "cell_type": "code",
            "source": [
                "df = readLHTable(\"lh_fabricEvents\",\"Tables/jobs/pipelineJobs\",\"582b9e24-0962-4fd0-aee5-647d9c200685\", \"EventProcessedUtcTime >'2025-02-07 20:42:19.269818'\", [\"id\",\"data\",\"EventProcessedUtcTime\"])\n",
                "display(df)"
            ],
            "outputs": [],
            "execution_count": null,
            "metadata": {
                "microsoft": {
                    "language": "python",
                    "language_group": "synapse_pyspark"
                }
            },
            "id": "e8b91462-1eda-4b55-b389-17d94c9b6ba2"
        },
        {
            "cell_type": "code",
            "source": [
                "df = readLHTable(\"lh_fabricEvents\",\"Tables/jobs/pipelineJobs\",\"582b9e24-0962-4fd0-aee5-647d9c200685\", \"EventProcessedUtcTime >'2025-02-07 20:42:19.269818'\", None)\n",
                "display(df)"
            ],
            "outputs": [],
            "execution_count": null,
            "metadata": {
                "microsoft": {
                    "language": "python",
                    "language_group": "synapse_pyspark"
                }
            },
            "id": "8949469e-8ac7-46bb-a05d-c41e596bda5b"
        },
        {
            "cell_type": "code",
            "source": [
                "df = readLHTable(\"lh_fabricEvents\",\"Tables/jobs/pipelineJobs\",\"582b9e24-0962-4fd0-aee5-647d9c200685\", None, [\"id\",\"data\",\"EventProcessedUtcTime\"])\n",
                "display(df)"
            ],
            "outputs": [],
            "execution_count": null,
            "metadata": {
                "microsoft": {
                    "language": "python",
                    "language_group": "synapse_pyspark"
                }
            },
            "id": "353a8661-ddf7-493d-9ba5-f7349f871163"
        },
        {
            "cell_type": "markdown",
            "source": [],
            "metadata": {
                "nteract": {
                    "transient": {
                        "deleting": false
                    }
                },
                "microsoft": {
                    "language": "python",
                    "language_group": "synapse_pyspark"
                }
            },
            "id": "9f9a59b3-62e9-48c9-8584-202b32c93370"
        },
        {
            "cell_type": "code",
            "source": [
                "hwm = getHighWaterMark(\"lh_fabricEvents\",\"Tables/jobs/pipelineJobs\",\"EventProcessedUtcTime\", \"2025-02-07 14:00:00.0000000\", \"2025-02-08 14:00:00.0000000\", \"582b9e24-0962-4fd0-aee5-647d9c200685\")\n",
                "print(hwm)"
            ],
            "outputs": [],
            "execution_count": 2,
            "metadata": {
                "microsoft": {
                    "language": "python",
                    "language_group": "synapse_pyspark"
                },
                "cellStatus": "{\"Benny Austin\":{\"session_start_time\":null,\"execution_start_time\":\"2025-02-12T13:22:22.7048896Z\",\"execution_finish_time\":\"2025-02-12T13:22:25.2104878Z\",\"state\":\"finished\",\"livy_statement_state\":\"available\",\"normalized_state\":\"finished\"}}"
            },
            "id": "50fe391e-9d81-4748-897b-a20edd9a6bdd"
        }
    ],
    "metadata": {
        "language_info": {
            "name": "python"
        },
        "kernel_info": {
            "name": "synapse_pyspark"
        },
        "a365ComputeOptions": null,
        "sessionKeepAliveTimeout": 0,
        "microsoft": {
            "language": "python",
            "language_group": "synapse_pyspark",
            "ms_spell_check": {
                "ms_spell_check_language": "en"
            }
        },
        "kernelspec": {
            "name": "synapse_pyspark",
            "language": "Python",
            "display_name": "Synapse PySpark"
        },
        "nteract": {
            "version": "nteract-front-end@1.0.0"
        },
        "spark_compute": {
            "compute_id": "/trident/default",
            "session_options": {
                "conf": {
                    "spark.synapse.nbs.session.timeout": "1200000"
                }
            }
        },
        "dependencies": {
            "lakehouse": {
                "default_lakehouse": "cc80a0ab-603d-4df9-bdfc-c35a7e8ab095",
                "default_lakehouse_name": "lh_silver",
                "default_lakehouse_workspace_id": "8d8d00a7-0e8a-4e3b-8c0e-8dcafac7adec"
            }
        }
    },
    "nbformat": 4,
    "nbformat_minor": 5
}