{
    "cells": [
        {
            "cell_type": "code",
            "source": [
                "%run /DeltaLakeFunctions"
            ],
            "outputs": [],
            "execution_count": 1,
            "metadata": {
                "microsoft": {
                    "language": "python",
                    "language_group": "synapse_pyspark"
                },
                "cellStatus": "{\"Benny Austin\":{\"session_start_time\":\"2024-10-09T16:08:39.2309209Z\",\"execution_start_time\":\"2024-10-09T16:09:04.6169702Z\",\"execution_finish_time\":\"2024-10-09T16:09:04.6172474Z\",\"state\":\"finished\",\"livy_statement_state\":\"available\",\"normalized_state\":\"finished\"}}"
            },
            "id": "7ac95bf5-7856-4b9f-bf76-b2889f9e494e"
        },
        {
            "cell_type": "markdown",
            "source": [
                "### Iterate through all tables in lakehouse and run OPTIMIZE and VACCUM commands"
            ],
            "metadata": {
                "nteract": {
                    "transient": {
                        "deleting": false
                    }
                }
            },
            "id": "3bc100e4-6657-4556-ae74-a979c57126cc"
        },
        {
            "cell_type": "code",
            "source": [
                "df = spark.sql(\"show tables\")\n",
                "tableList = df.select(\"tableName\").rdd.flatMap(lambda x:x).collect()\n",
                "# print (tables)\n",
                "for table in tableList:\n",
                "    print (\"optimizing\",table)\n",
                "    optimizeDelta(table)"
            ],
            "outputs": [],
            "execution_count": 2,
            "metadata": {
                "jupyter": {
                    "source_hidden": false,
                    "outputs_hidden": false
                },
                "nteract": {
                    "transient": {
                        "deleting": false
                    }
                },
                "collapsed": false,
                "microsoft": {
                    "language": "python",
                    "language_group": "synapse_pyspark"
                },
                "cellStatus": "{\"Benny Austin\":{\"session_start_time\":null,\"execution_start_time\":\"2024-10-09T16:09:05.1069899Z\",\"execution_finish_time\":\"2024-10-09T16:14:00.9081479Z\",\"state\":\"finished\",\"livy_statement_state\":\"available\",\"normalized_state\":\"finished\"}}"
            },
            "id": "d84a8777-6974-448d-bb68-c65c91a6b7da"
        }
    ],
    "metadata": {
        "language_info": {
            "name": "python"
        },
        "kernelspec": {
            "name": "synapse_pyspark",
            "language": "Python",
            "display_name": "Synapse PySpark"
        },
        "microsoft": {
            "language": "python",
            "ms_spell_check": {
                "ms_spell_check_language": "en"
            },
            "language_group": "synapse_pyspark"
        },
        "widgets": {},
        "nteract": {
            "version": "nteract-front-end@1.0.0"
        },
        "kernel_info": {
            "name": "synapse_pyspark"
        },
        "notebook_environment": {},
        "synapse_widget": {
            "version": "0.1",
            "state": {}
        },
        "save_output": true,
        "spark_compute": {
            "compute_id": "/trident/default",
            "session_options": {
                "enableDebugMode": false,
                "conf": {
                    "spark.synapse.nbs.session.timeout": "1200000"
                }
            }
        },
        "dependencies": {
            "lakehouse": {
                "default_lakehouse": "cc80a0ab-603d-4df9-bdfc-c35a7e8ab095",
                "default_lakehouse_name": "lh_silver",
                "default_lakehouse_workspace_id": "8d8d00a7-0e8a-4e3b-8c0e-8dcafac7adec"
            }
        }
    },
    "nbformat": 4,
    "nbformat_minor": 5
}